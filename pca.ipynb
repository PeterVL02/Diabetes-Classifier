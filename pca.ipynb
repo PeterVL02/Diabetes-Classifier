{
 "cells": [
  {
   "cell_type": "code",
   "execution_count": null,
   "metadata": {},
   "outputs": [],
   "source": [
    "# Import relevant libraries\n",
    "import pandas as pd\n",
    "from sklearn.preprocessing import StandardScaler\n",
    "from sklearn.decomposition import PCA\n",
    "import matplotlib.pyplot as plt\n",
    "from scipy.linalg import svd\n",
    "import numpy as np"
   ]
  },
  {
   "cell_type": "code",
   "execution_count": null,
   "metadata": {},
   "outputs": [],
   "source": [
    "def get_PCs(x):\n",
    "    # Create an instance of the PCA class\n",
    "    pca = PCA()\n",
    "\n",
    "    # Apply PCA to the attributes\n",
    "    principalComponents = pca.fit_transform(x)\n",
    "    # Perform singular value decomposition\n",
    "    Y = x - np.ones((x.shape[0], 1)) * x.mean(0)\n",
    "    U, S, Vh = svd(Y, full_matrices=False)\n",
    "    V = Vh.T\n",
    "    return Vh"
   ]
  }
 ],
 "metadata": {
  "language_info": {
   "name": "python"
  }
 },
 "nbformat": 4,
 "nbformat_minor": 2
}
